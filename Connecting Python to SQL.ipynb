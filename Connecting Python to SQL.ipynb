{
 "cells": [
  {
   "cell_type": "code",
   "execution_count": null,
   "id": "b12a8eba",
   "metadata": {},
   "outputs": [],
   "source": [
    "# LAB | Connecting Python to SQL"
   ]
  },
  {
   "cell_type": "code",
   "execution_count": null,
   "id": "acd5686f",
   "metadata": {},
   "outputs": [],
   "source": [
    "pip install sqlalchemy pymysql pandas"
   ]
  },
  {
   "cell_type": "code",
   "execution_count": 7,
   "id": "c52179b3",
   "metadata": {
    "scrolled": true
   },
   "outputs": [
    {
     "name": "stdout",
     "output_type": "stream",
     "text": [
      "Conectado a: sakila\n"
     ]
    }
   ],
   "source": [
    "from sqlalchemy import create_engine\n",
    "import pandas as pd\n",
    "\n",
    "# Reemplaza con tus credenciales de base de datos\n",
    "db_user = 'root'         \n",
    "db_password = 'password'  \n",
    "db_host = 'localhost'         \n",
    "db_port = '3306'              \n",
    "db_name = 'sakila'          \n",
    "\n",
    "# Crear el motor de la base de datos\n",
    "engine = create_engine(f'mysql+pymysql://{db_user}:{db_password}@{db_host}:{db_port}/{db_name}')\n",
    "\n",
    "# Probar la conexión\n",
    "try:\n",
    "    with engine.connect() as connection:\n",
    "        result = pd.read_sql(\"SELECT DATABASE();\", connection)\n",
    "        print(f\"Conectado a: {result.iloc[0, 0]}\")\n",
    "except Exception as e:\n",
    "    print(f\"Error al conectar a la base de datos: {e}\")"
   ]
  },
  {
   "cell_type": "code",
   "execution_count": 8,
   "id": "3eec17f1",
   "metadata": {},
   "outputs": [
    {
     "name": "stdout",
     "output_type": "stream",
     "text": [
      "   rental_id         rental_date  inventory_id  customer_id  \\\n",
      "0          1 2005-05-24 22:53:30           367          130   \n",
      "1          2 2005-05-24 22:54:33          1525          459   \n",
      "2          3 2005-05-24 23:03:39          1711          408   \n",
      "3          4 2005-05-24 23:04:41          2452          333   \n",
      "4          5 2005-05-24 23:05:21          2079          222   \n",
      "\n",
      "          return_date  staff_id  \n",
      "0 2005-05-26 22:04:30         1  \n",
      "1 2005-05-28 19:40:33         1  \n",
      "2 2005-06-01 22:12:39         1  \n",
      "3 2005-06-03 01:43:41         2  \n",
      "4 2005-06-02 04:33:21         1  \n"
     ]
    }
   ],
   "source": [
    "# 2\n",
    "\n",
    "def rentals_month(engine, month, year):\n",
    "    query = f\"\"\"\n",
    "    SELECT rental_id, rental_date, inventory_id, customer_id, return_date, staff_id\n",
    "    FROM rental\n",
    "    WHERE MONTH(rental_date) = {month} AND YEAR(rental_date) = {year};\n",
    "    \"\"\"\n",
    "    with engine.connect() as connection:\n",
    "        df = pd.read_sql(query, connection)\n",
    "    return df\n",
    "\n",
    "# Ejemplo de uso:\n",
    "may_rentals = rentals_month(engine, 5, 2005)\n",
    "print(may_rentals.head())\n"
   ]
  },
  {
   "cell_type": "code",
   "execution_count": 9,
   "id": "8f46a969",
   "metadata": {},
   "outputs": [
    {
     "name": "stdout",
     "output_type": "stream",
     "text": [
      "   customer_id  rentals_05_2005\n",
      "0            1                2\n",
      "1            2                1\n",
      "2            3                2\n",
      "3            5                3\n",
      "4            6                3\n"
     ]
    }
   ],
   "source": [
    "# 3\n",
    "\n",
    "def rental_count_month(df, month, year):\n",
    "    rental_count = df.groupby('customer_id').size().reset_index(name=f'rentals_{month:02d}_{year}')\n",
    "    return rental_count\n",
    "\n",
    "# Ejemplo de uso:\n",
    "may_rental_count = rental_count_month(may_rentals, 5, 2005)\n",
    "print(may_rental_count.head())\n"
   ]
  },
  {
   "cell_type": "code",
   "execution_count": 10,
   "id": "6cd8794f",
   "metadata": {},
   "outputs": [
    {
     "name": "stdout",
     "output_type": "stream",
     "text": [
      "   customer_id  rentals_05_2005  rentals_06_2005  difference\n",
      "0            1              2.0              7.0         5.0\n",
      "1            2              1.0              1.0         0.0\n",
      "2            3              2.0              4.0         2.0\n",
      "3            5              3.0              5.0         2.0\n",
      "4            6              3.0              4.0         1.0\n"
     ]
    }
   ],
   "source": [
    "# 4\n",
    "\n",
    "def compare_rentals(df1, df2, month1, year1, month2, year2):\n",
    "    merged_df = pd.merge(df1, df2, on='customer_id', how='outer').fillna(0)\n",
    "    merged_df['difference'] = merged_df[f'rentals_{month2:02d}_{year2}'] - merged_df[f'rentals_{month1:02d}_{year1}']\n",
    "    return merged_df\n",
    "\n",
    "# Ejemplo de uso:\n",
    "june_rentals = rentals_month(engine, 6, 2005)\n",
    "june_rental_count = rental_count_month(june_rentals, 6, 2005)\n",
    "\n",
    "comparison = compare_rentals(may_rental_count, june_rental_count, 5, 2005, 6, 2005)\n",
    "print(comparison.head())\n"
   ]
  }
 ],
 "metadata": {
  "kernelspec": {
   "display_name": "Python 3 (ipykernel)",
   "language": "python",
   "name": "python3"
  },
  "language_info": {
   "codemirror_mode": {
    "name": "ipython",
    "version": 3
   },
   "file_extension": ".py",
   "mimetype": "text/x-python",
   "name": "python",
   "nbconvert_exporter": "python",
   "pygments_lexer": "ipython3",
   "version": "3.11.7"
  }
 },
 "nbformat": 4,
 "nbformat_minor": 5
}
